{
 "cells": [
  {
   "cell_type": "markdown",
   "id": "76d1a54e-60bf-4743-ab8a-b516abbf09a0",
   "metadata": {},
   "source": [
    "# NCES SABS\n",
    "\n",
    "The **School Attendance Boundary Survey (SABS)** was an experimental survey conducted by the National Center for Education Statistics (NCES) with assistance from the U.S. Census Bureau to collect school attendance boundaries for the 2013-2014 and 2015-2016 school years. The SABS collection includes boundaries for more than 70,000 schools in over 12,000 school districts throughout the U.S. As of September 2021, SABS is the most current, complete database of U.S. school attendance zones."
   ]
  },
  {
   "cell_type": "code",
   "execution_count": 2,
   "id": "401b10a7-8f23-4bf1-93b7-ac88acf17f14",
   "metadata": {},
   "outputs": [],
   "source": [
    "import pandas as pd\n",
    "import geopandas as gpd\n",
    "import numpy as np\n",
    "pd.set_option('display.max_rows', 200)\n",
    "pd.set_option('display.max_column', 200)"
   ]
  },
  {
   "cell_type": "markdown",
   "id": "5deefeb4-1ce1-4dae-9596-e62f6da6a52b",
   "metadata": {},
   "source": [
    "[NCES/SABS website](https://nces.ed.gov/programs/edge/SABS)\n",
    "\n",
    "[documentation pdf](https://nces.ed.gov/programs/edge/docs/EDGE_SABS_2015_2016_TECHDOC.pdf)"
   ]
  },
  {
   "cell_type": "code",
   "execution_count": 3,
   "id": "5935c50f-a2fb-40cc-87ee-a6927460f8a6",
   "metadata": {},
   "outputs": [],
   "source": [
    "sabs = gpd.read_parquet('../../../data/NCES/attendance_zones/sabs_1516.parquet')"
   ]
  },
  {
   "cell_type": "code",
   "execution_count": 4,
   "id": "996603a3-6fb4-4110-bce2-1f8f62e5fd31",
   "metadata": {},
   "outputs": [
    {
     "data": {
      "text/html": [
       "<div>\n",
       "<style scoped>\n",
       "    .dataframe tbody tr th:only-of-type {\n",
       "        vertical-align: middle;\n",
       "    }\n",
       "\n",
       "    .dataframe tbody tr th {\n",
       "        vertical-align: top;\n",
       "    }\n",
       "\n",
       "    .dataframe thead th {\n",
       "        text-align: right;\n",
       "    }\n",
       "</style>\n",
       "<table border=\"1\" class=\"dataframe\">\n",
       "  <thead>\n",
       "    <tr style=\"text-align: right;\">\n",
       "      <th></th>\n",
       "      <th>SrcName</th>\n",
       "      <th>ncessch</th>\n",
       "      <th>schnam</th>\n",
       "      <th>leaid</th>\n",
       "      <th>gslo</th>\n",
       "      <th>gshi</th>\n",
       "      <th>defacto</th>\n",
       "      <th>stAbbrev</th>\n",
       "      <th>openEnroll</th>\n",
       "      <th>Shape_Leng</th>\n",
       "      <th>Shape_Area</th>\n",
       "      <th>level</th>\n",
       "      <th>MultiBdy</th>\n",
       "      <th>geometry</th>\n",
       "    </tr>\n",
       "  </thead>\n",
       "  <tbody>\n",
       "    <tr>\n",
       "      <th>0</th>\n",
       "      <td>None</td>\n",
       "      <td>010000500870</td>\n",
       "      <td>Ala Avenue Middle Sch</td>\n",
       "      <td>0100005</td>\n",
       "      <td>07</td>\n",
       "      <td>08</td>\n",
       "      <td>1</td>\n",
       "      <td>AL</td>\n",
       "      <td>0</td>\n",
       "      <td>146828.793028</td>\n",
       "      <td>1.012552e+08</td>\n",
       "      <td>2</td>\n",
       "      <td>0</td>\n",
       "      <td>MULTIPOLYGON (((-9601421.827 4062780.032, -960...</td>\n",
       "    </tr>\n",
       "    <tr>\n",
       "      <th>1</th>\n",
       "      <td>None</td>\n",
       "      <td>010000500871</td>\n",
       "      <td>Albertville High Sch</td>\n",
       "      <td>0100005</td>\n",
       "      <td>09</td>\n",
       "      <td>12</td>\n",
       "      <td>1</td>\n",
       "      <td>AL</td>\n",
       "      <td>0</td>\n",
       "      <td>146828.793028</td>\n",
       "      <td>1.012552e+08</td>\n",
       "      <td>3</td>\n",
       "      <td>0</td>\n",
       "      <td>MULTIPOLYGON (((-9601421.827 4062780.032, -960...</td>\n",
       "    </tr>\n",
       "    <tr>\n",
       "      <th>2</th>\n",
       "      <td>None</td>\n",
       "      <td>010000500879</td>\n",
       "      <td>Evans Elem Sch</td>\n",
       "      <td>0100005</td>\n",
       "      <td>05</td>\n",
       "      <td>06</td>\n",
       "      <td>1</td>\n",
       "      <td>AL</td>\n",
       "      <td>0</td>\n",
       "      <td>146828.793028</td>\n",
       "      <td>1.012552e+08</td>\n",
       "      <td>2</td>\n",
       "      <td>0</td>\n",
       "      <td>MULTIPOLYGON (((-9601421.827 4062780.032, -960...</td>\n",
       "    </tr>\n",
       "    <tr>\n",
       "      <th>3</th>\n",
       "      <td>None</td>\n",
       "      <td>010000500889</td>\n",
       "      <td>Albertville Elem Sch</td>\n",
       "      <td>0100005</td>\n",
       "      <td>03</td>\n",
       "      <td>04</td>\n",
       "      <td>1</td>\n",
       "      <td>AL</td>\n",
       "      <td>0</td>\n",
       "      <td>146828.793028</td>\n",
       "      <td>1.012552e+08</td>\n",
       "      <td>1</td>\n",
       "      <td>0</td>\n",
       "      <td>MULTIPOLYGON (((-9601421.827 4062780.032, -960...</td>\n",
       "    </tr>\n",
       "    <tr>\n",
       "      <th>4</th>\n",
       "      <td>None</td>\n",
       "      <td>010000501616</td>\n",
       "      <td>Big Spring Lake Kinderg Sch</td>\n",
       "      <td>0100005</td>\n",
       "      <td>KG</td>\n",
       "      <td>KG</td>\n",
       "      <td>1</td>\n",
       "      <td>AL</td>\n",
       "      <td>0</td>\n",
       "      <td>146828.793028</td>\n",
       "      <td>1.012552e+08</td>\n",
       "      <td>1</td>\n",
       "      <td>0</td>\n",
       "      <td>MULTIPOLYGON (((-9601421.827 4062780.032, -960...</td>\n",
       "    </tr>\n",
       "  </tbody>\n",
       "</table>\n",
       "</div>"
      ],
      "text/plain": [
       "  SrcName       ncessch                       schnam    leaid gslo gshi  \\\n",
       "0    None  010000500870        Ala Avenue Middle Sch  0100005   07   08   \n",
       "1    None  010000500871         Albertville High Sch  0100005   09   12   \n",
       "2    None  010000500879               Evans Elem Sch  0100005   05   06   \n",
       "3    None  010000500889         Albertville Elem Sch  0100005   03   04   \n",
       "4    None  010000501616  Big Spring Lake Kinderg Sch  0100005   KG   KG   \n",
       "\n",
       "  defacto stAbbrev openEnroll     Shape_Leng    Shape_Area level MultiBdy  \\\n",
       "0       1       AL          0  146828.793028  1.012552e+08     2        0   \n",
       "1       1       AL          0  146828.793028  1.012552e+08     3        0   \n",
       "2       1       AL          0  146828.793028  1.012552e+08     2        0   \n",
       "3       1       AL          0  146828.793028  1.012552e+08     1        0   \n",
       "4       1       AL          0  146828.793028  1.012552e+08     1        0   \n",
       "\n",
       "                                            geometry  \n",
       "0  MULTIPOLYGON (((-9601421.827 4062780.032, -960...  \n",
       "1  MULTIPOLYGON (((-9601421.827 4062780.032, -960...  \n",
       "2  MULTIPOLYGON (((-9601421.827 4062780.032, -960...  \n",
       "3  MULTIPOLYGON (((-9601421.827 4062780.032, -960...  \n",
       "4  MULTIPOLYGON (((-9601421.827 4062780.032, -960...  "
      ]
     },
     "execution_count": 4,
     "metadata": {},
     "output_type": "execute_result"
    }
   ],
   "source": [
    "sabs.head()"
   ]
  },
  {
   "cell_type": "markdown",
   "id": "32c4ecc0-1c9a-47d1-92be-44e24f29560d",
   "metadata": {},
   "source": [
    "Attendance boundary level indicators are analogous with school level indicators."
   ]
  },
  {
   "cell_type": "code",
   "execution_count": 5,
   "id": "d54f623b-1e68-43ac-82d4-cd9ab3604da4",
   "metadata": {},
   "outputs": [
    {
     "data": {
      "text/plain": [
       "array(['2', '3', '1', '4', 'N'], dtype=object)"
      ]
     },
     "execution_count": 5,
     "metadata": {},
     "output_type": "execute_result"
    }
   ],
   "source": [
    "sabs.level.unique()"
   ]
  },
  {
   "cell_type": "markdown",
   "id": "1c6568b2-30a9-46a5-91fe-1001d0c5eaea",
   "metadata": {},
   "source": [
    "> The school levels are defined by CCD as the following: <br>\n",
    "> 1-Primary (low grade: PK through 3rd ; high grade: PK through 8th) <br>\n",
    "> 2-Middle (low grade: 4th through 7th ; high grade: 4th through 9th) <br>\n",
    "> 3-High (low grade: 7th through 12th ; high grade: 12th only) <br>\n",
    "> 4-Other (a configuration not falling within the other three categories, including ungraded) <br>\n",
    "> N-Not applicable"
   ]
  },
  {
   "cell_type": "markdown",
   "id": "e075ded9-ad7b-4246-980a-f60697dc86ec",
   "metadata": {},
   "source": [
    "Index by state abbreviations"
   ]
  },
  {
   "cell_type": "code",
   "execution_count": 6,
   "id": "07c0fbe6-27a8-4a14-89aa-24d678c8c815",
   "metadata": {},
   "outputs": [],
   "source": [
    "ca_sabs = sabs.loc[sabs['stAbbrev'] == 'CA']"
   ]
  },
  {
   "cell_type": "code",
   "execution_count": 7,
   "id": "8c594625-7ee6-4c11-9f57-e056c306cad9",
   "metadata": {},
   "outputs": [
    {
     "data": {
      "text/plain": [
       "<AxesSubplot:>"
      ]
     },
     "execution_count": 7,
     "metadata": {},
     "output_type": "execute_result"
    },
    {
     "data": {
      "image/png": "[encoded data removed]",
      "text/plain": [
       "<Figure size 432x288 with 1 Axes>"
      ]
     },
     "metadata": {
      "needs_background": "light"
     },
     "output_type": "display_data"
    }
   ],
   "source": [
    "ca_sabs.plot()"
   ]
  },
  {
   "cell_type": "code",
   "execution_count": null,
   "id": "522c0107-56d7-40c7-920e-5e64b7b17d50",
   "metadata": {},
   "outputs": [],
   "source": []
  }
 ],
 "metadata": {
  "kernelspec": {
   "display_name": "Python 3",
   "language": "python",
   "name": "python3"
  },
  "language_info": {
   "codemirror_mode": {
    "name": "ipython",
    "version": 3
   },
   "file_extension": ".py",
   "mimetype": "text/x-python",
   "name": "python",
   "nbconvert_exporter": "python",
   "pygments_lexer": "ipython3",
   "version": "3.9.2"
  }
 },
 "nbformat": 4,
 "nbformat_minor": 5
}
