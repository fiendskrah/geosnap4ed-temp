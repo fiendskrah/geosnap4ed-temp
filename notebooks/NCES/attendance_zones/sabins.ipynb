{
 "cells": [
  {
   "cell_type": "markdown",
   "id": "facb8a57-d35f-4fe3-bcec-e64dc83ba1e1",
   "metadata": {},
   "source": [
    "# SABINS"
   ]
  },
  {
   "cell_type": "markdown",
   "id": "fd0926a8-ba4d-429f-9c45-08318425b09e",
   "metadata": {},
   "source": [
    "The School Attendance Boundary Information System (SABINS) was a National Science Foundation-funded project to provide, free of charge, aggregate census data and GIS-compatible boundary files for school attendance areas, or school catchment areas, for selected areas in the United States for the 2009-10, 2010-11 and 2011-12 school years."
   ]
  },
  {
   "cell_type": "code",
   "execution_count": 1,
   "id": "a28c368c-cf05-4f17-acbf-421bfcd294c7",
   "metadata": {},
   "outputs": [],
   "source": [
    "import pandas as pd\n",
    "import geopandas as gpd\n",
    "import numpy as np\n",
    "import gdown\n",
    "pd.set_option('display.max_rows', 200)\n",
    "pd.set_option('display.max_column', 200)"
   ]
  },
  {
   "cell_type": "code",
   "execution_count": 1,
   "id": "08177620-2b3c-47b9-a2d0-2f71e722facf",
   "metadata": {},
   "outputs": [],
   "source": [
    "import gdown \n",
    "# creates error by writing extra lines on the file after downloading from google drive\n",
    "\n",
    "#url = 'https://drive.google.com/drive/folders/1CSoQL3VQ9FpjGpFYu8N8i3HVJ8CjGmEZ'\n",
    "#output = 'us_sabins_01_0910.parquet'\n",
    "#gdown.download(url, output, quiet=False)\n",
    "\n",
    "#md5 = '1gAwOuGAgip3Ktpwzi5ZD_1sTOOSdN4rA'\n",
    "#gdown.cached_download(url, output, postprocess=gdown.extractall)\n",
    "\n",
    "#sabins = gpd.read_parquet(output)"
   ]
  },
  {
   "cell_type": "code",
   "execution_count": 2,
   "id": "82285060-c3aa-4710-9f2e-25bcf08b6a4a",
   "metadata": {},
   "outputs": [],
   "source": [
    "sabins = gpd.read_parquet('../../../data/NCES/attendance_zones/us_sabins_01_0910_.parquet') # mind the underscore"
   ]
  },
  {
   "cell_type": "code",
   "execution_count": 5,
   "id": "b841c592-483d-4469-8c2d-6444bc6a2a28",
   "metadata": {},
   "outputs": [
    {
     "data": {
      "text/html": [
       "<div>\n",
       "<style scoped>\n",
       "    .dataframe tbody tr th:only-of-type {\n",
       "        vertical-align: middle;\n",
       "    }\n",
       "\n",
       "    .dataframe tbody tr th {\n",
       "        vertical-align: top;\n",
       "    }\n",
       "\n",
       "    .dataframe thead th {\n",
       "        text-align: right;\n",
       "    }\n",
       "</style>\n",
       "<table border=\"1\" class=\"dataframe\">\n",
       "  <thead>\n",
       "    <tr style=\"text-align: right;\">\n",
       "      <th></th>\n",
       "      <th>SDELMA_g</th>\n",
       "      <th>SDUNIA_g</th>\n",
       "      <th>SDSECA_g</th>\n",
       "      <th>STATE</th>\n",
       "      <th>NUMSCHOOLS</th>\n",
       "      <th>CENTROID_X</th>\n",
       "      <th>CENTROID_Y</th>\n",
       "      <th>GISJOIN</th>\n",
       "      <th>Magnet09CT</th>\n",
       "      <th>Charter09C</th>\n",
       "      <th>Privat09CT</th>\n",
       "      <th>Shape_area</th>\n",
       "      <th>Shape_len</th>\n",
       "      <th>geometry</th>\n",
       "    </tr>\n",
       "  </thead>\n",
       "  <tbody>\n",
       "    <tr>\n",
       "      <th>0</th>\n",
       "      <td>0699999</td>\n",
       "      <td>0613890</td>\n",
       "      <td>0699999</td>\n",
       "      <td>06</td>\n",
       "      <td>1</td>\n",
       "      <td>-2158070</td>\n",
       "      <td>411818</td>\n",
       "      <td>G0613890000101</td>\n",
       "      <td>0</td>\n",
       "      <td>0</td>\n",
       "      <td>0</td>\n",
       "      <td>2.599300e+06</td>\n",
       "      <td>10773.929577</td>\n",
       "      <td>MULTIPOLYGON (((-2158091.289 412816.212, -2157...</td>\n",
       "    </tr>\n",
       "    <tr>\n",
       "      <th>1</th>\n",
       "      <td>0699999</td>\n",
       "      <td>0613890</td>\n",
       "      <td>0699999</td>\n",
       "      <td>06</td>\n",
       "      <td>1</td>\n",
       "      <td>-2155573</td>\n",
       "      <td>412106</td>\n",
       "      <td>G0613890000501</td>\n",
       "      <td>0</td>\n",
       "      <td>0</td>\n",
       "      <td>0</td>\n",
       "      <td>2.553573e+06</td>\n",
       "      <td>8989.589364</td>\n",
       "      <td>POLYGON ((-2154000.043 413097.032, -2154144.51...</td>\n",
       "    </tr>\n",
       "    <tr>\n",
       "      <th>2</th>\n",
       "      <td>0699999</td>\n",
       "      <td>0613890</td>\n",
       "      <td>0699999</td>\n",
       "      <td>06</td>\n",
       "      <td>1</td>\n",
       "      <td>-2159119</td>\n",
       "      <td>411623</td>\n",
       "      <td>G0613890000701</td>\n",
       "      <td>0</td>\n",
       "      <td>0</td>\n",
       "      <td>0</td>\n",
       "      <td>3.191444e+06</td>\n",
       "      <td>8210.595977</td>\n",
       "      <td>POLYGON ((-2158447.668 412802.038, -2158455.41...</td>\n",
       "    </tr>\n",
       "    <tr>\n",
       "      <th>3</th>\n",
       "      <td>0699999</td>\n",
       "      <td>0613890</td>\n",
       "      <td>0699999</td>\n",
       "      <td>06</td>\n",
       "      <td>1</td>\n",
       "      <td>-2149062</td>\n",
       "      <td>411633</td>\n",
       "      <td>G0613890000801</td>\n",
       "      <td>0</td>\n",
       "      <td>0</td>\n",
       "      <td>0</td>\n",
       "      <td>3.876052e+07</td>\n",
       "      <td>35770.466719</td>\n",
       "      <td>MULTIPOLYGON (((-2148035.114 414356.636, -2148...</td>\n",
       "    </tr>\n",
       "    <tr>\n",
       "      <th>4</th>\n",
       "      <td>0699999</td>\n",
       "      <td>0613890</td>\n",
       "      <td>0699999</td>\n",
       "      <td>06</td>\n",
       "      <td>1</td>\n",
       "      <td>-2144651</td>\n",
       "      <td>416629</td>\n",
       "      <td>G0613890000901</td>\n",
       "      <td>0</td>\n",
       "      <td>1</td>\n",
       "      <td>3</td>\n",
       "      <td>7.899604e+06</td>\n",
       "      <td>21498.600284</td>\n",
       "      <td>POLYGON ((-2142476.295 416128.783, -2142388.00...</td>\n",
       "    </tr>\n",
       "  </tbody>\n",
       "</table>\n",
       "</div>"
      ],
      "text/plain": [
       "  SDELMA_g SDUNIA_g SDSECA_g STATE  NUMSCHOOLS CENTROID_X CENTROID_Y  \\\n",
       "0  0699999  0613890  0699999    06           1   -2158070     411818   \n",
       "1  0699999  0613890  0699999    06           1   -2155573     412106   \n",
       "2  0699999  0613890  0699999    06           1   -2159119     411623   \n",
       "3  0699999  0613890  0699999    06           1   -2149062     411633   \n",
       "4  0699999  0613890  0699999    06           1   -2144651     416629   \n",
       "\n",
       "          GISJOIN  Magnet09CT  Charter09C  Privat09CT    Shape_area  \\\n",
       "0  G0613890000101           0           0           0  2.599300e+06   \n",
       "1  G0613890000501           0           0           0  2.553573e+06   \n",
       "2  G0613890000701           0           0           0  3.191444e+06   \n",
       "3  G0613890000801           0           0           0  3.876052e+07   \n",
       "4  G0613890000901           0           1           3  7.899604e+06   \n",
       "\n",
       "      Shape_len                                           geometry  \n",
       "0  10773.929577  MULTIPOLYGON (((-2158091.289 412816.212, -2157...  \n",
       "1   8989.589364  POLYGON ((-2154000.043 413097.032, -2154144.51...  \n",
       "2   8210.595977  POLYGON ((-2158447.668 412802.038, -2158455.41...  \n",
       "3  35770.466719  MULTIPOLYGON (((-2148035.114 414356.636, -2148...  \n",
       "4  21498.600284  POLYGON ((-2142476.295 416128.783, -2142388.00...  "
      ]
     },
     "execution_count": 5,
     "metadata": {},
     "output_type": "execute_result"
    }
   ],
   "source": [
    "sabins.head()"
   ]
  },
  {
   "cell_type": "markdown",
   "id": "8d7703b6-a8dd-4671-98d5-0087d5c96e6f",
   "metadata": {},
   "source": [
    "The 2009-2010 Sabins does not have many options for easy indexing, you will need to rely on spatial selection beyond state FIPS selection. Most of the fields in this older dataset are not of great use. "
   ]
  },
  {
   "cell_type": "code",
   "execution_count": 10,
   "id": "6e8fd6fe-efff-4784-bd7e-0559a2093c05",
   "metadata": {},
   "outputs": [],
   "source": [
    "ca = sabins.loc[sabins['STATE'] == '06']"
   ]
  },
  {
   "cell_type": "markdown",
   "id": "433f4d39-42dc-439a-8b09-0102d67f098d",
   "metadata": {},
   "source": [
    "As well, the available data for most areas is fairly sparse"
   ]
  },
  {
   "cell_type": "code",
   "execution_count": 11,
   "id": "a2425d4c-6155-4b21-a0dd-7c6f9da6185e",
   "metadata": {},
   "outputs": [
    {
     "data": {
      "text/plain": [
       "<AxesSubplot:>"
      ]
     },
     "execution_count": 11,
     "metadata": {},
     "output_type": "execute_result"
    },
    {
     "data": {
      "image/png": "[encoded data removed]",
      "text/plain": [
       "<Figure size 432x288 with 1 Axes>"
      ]
     },
     "metadata": {
      "needs_background": "light"
     },
     "output_type": "display_data"
    }
   ],
   "source": [
    "ca.plot()"
   ]
  },
  {
   "cell_type": "markdown",
   "id": "66a90fc6-64b8-4c18-8cd1-6afda35f2241",
   "metadata": {},
   "source": [
    "Find notebooks 025 and 026 in the [seg_optimization repo](https://github.com/spatialucr/seg-optimization-modeling) for instructions on spatial selection of schools for sabins zones"
   ]
  }
 ],
 "metadata": {
  "kernelspec": {
   "display_name": "Python 3",
   "language": "python",
   "name": "python3"
  },
  "language_info": {
   "codemirror_mode": {
    "name": "ipython",
    "version": 3
   },
   "file_extension": ".py",
   "mimetype": "text/x-python",
   "name": "python",
   "nbconvert_exporter": "python",
   "pygments_lexer": "ipython3",
   "version": "3.9.2"
  }
 },
 "nbformat": 4,
 "nbformat_minor": 5
}
