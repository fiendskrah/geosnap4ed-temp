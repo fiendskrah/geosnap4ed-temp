{
 "cells": [
  {
   "cell_type": "markdown",
   "id": "77fe5c2f-4163-4887-b7a4-2086870408c7",
   "metadata": {},
   "source": [
    "# School Districts\n",
    "\n",
    "The Census Bureau collects school district boundaries to develop annual estimates of children in poverty to help the U.S. Department of Education determine the annual allocation of Title I funding to states and school districts. NCES also uses the school district boundaries to develop a broad collection of district-level demographic estimates from the Census Bureau’s American Community Survey. The Census Bureau annually updates school district boundaries, names, local education agency codes, grade ranges, and school district levels based on information provided by state education officials."
   ]
  },
  {
   "cell_type": "markdown",
   "id": "88abe051-a1eb-4d22-82bb-234a5f706fc2",
   "metadata": {},
   "source": [
    "School district shapefiles comes from the Education Demographic and Geographic Statistics (EDGE), published by the National Center of Education Statistics (NCES), a center housed by the Institute of Education Sciences (IES). The center publishes data years going back to 1995. "
   ]
  },
  {
   "cell_type": "markdown",
   "id": "fadd236a-ce53-4780-b11a-f4c79d296b3c",
   "metadata": {},
   "source": [
    "The original download links can be found [at the EDGE webpage of the NCES website](https://nces.ed.gov/programs/edge/Geographic/DistrictBoundaries), *available as a single composite file or divided into separate files for **Primary, Secondary, or Unified** districts*."
   ]
  },
  {
   "cell_type": "markdown",
   "id": "3b29c384-a03f-4a38-929e-fd3962bea566",
   "metadata": {},
   "source": [
    "The school district are also available to download through Census (TIGER/Line)'s website, but after a brief investigation we found that there were no geometrical differences in the files, but that some of the districts seemed to have been renamed or reclassified (as in from being an elementary district to a unified district)."
   ]
  },
  {
   "cell_type": "markdown",
   "id": "b7a3ccfc-57fd-4b3b-8e8d-223e76b1750e",
   "metadata": {},
   "source": [
    "[Documentation PDF from NCES can be found here](https://nces.ed.gov/programs/edge/docs/EDGE_SDBOUNDARIES_COMPOSITE_FILEDOC.pdf)"
   ]
  },
  {
   "cell_type": "code",
   "execution_count": 2,
   "id": "9e3e5f31-42a6-4f3d-91b4-81b73b494a3a",
   "metadata": {},
   "outputs": [],
   "source": [
    "import pandas as pd\n",
    "import geopandas as gpd\n",
    "import numpy as np\n",
    "pd.set_option('display.max_rows', 200)\n",
    "pd.set_option('display.max_column', 200)"
   ]
  },
  {
   "cell_type": "code",
   "execution_count": 3,
   "id": "2c4ed707-59cf-4bdd-8a1d-102998800224",
   "metadata": {},
   "outputs": [],
   "source": [
    "import gdown \n",
    "# creates error by writing extra lines on the file after downloading from google drive\n",
    "\n",
    "#url = 'https://drive.google.com/drive/folders/1CSoQL3VQ9FpjGpFYu8N8i3HVJ8CjGmEZ'\n",
    "#output = 'us_sabins_01_0910.parquet'\n",
    "#gdown.download(url, output, quiet=False)\n",
    "\n",
    "#md5 = '1gAwOuGAgip3Ktpwzi5ZD_1sTOOSdN4rA'\n",
    "#gdown.cached_download(url, output, postprocess=gdown.extractall)\n",
    "\n",
    "#sabins = gpd.read_parquet(output)"
   ]
  },
  {
   "cell_type": "markdown",
   "id": "13671fe7-7e72-4630-9bc9-800016b1389c",
   "metadata": {},
   "source": [
    "### Look at year 15-16 first."
   ]
  },
  {
   "cell_type": "code",
   "execution_count": 4,
   "id": "72629533-e4f9-41d1-9807-848262631168",
   "metadata": {},
   "outputs": [],
   "source": [
    "districts1516 = gpd.read_parquet('../../../data/NCES/districts/districts_1516.parquet')"
   ]
  },
  {
   "cell_type": "code",
   "execution_count": 7,
   "id": "9a750b5c-bb86-44c0-a630-6e50323b754c",
   "metadata": {},
   "outputs": [
    {
     "data": {
      "text/html": [
       "<div>\n",
       "<style scoped>\n",
       "    .dataframe tbody tr th:only-of-type {\n",
       "        vertical-align: middle;\n",
       "    }\n",
       "\n",
       "    .dataframe tbody tr th {\n",
       "        vertical-align: top;\n",
       "    }\n",
       "\n",
       "    .dataframe thead th {\n",
       "        text-align: right;\n",
       "    }\n",
       "</style>\n",
       "<table border=\"1\" class=\"dataframe\">\n",
       "  <thead>\n",
       "    <tr style=\"text-align: right;\">\n",
       "      <th></th>\n",
       "      <th>STATEFP</th>\n",
       "      <th>GEOID</th>\n",
       "      <th>NAME</th>\n",
       "      <th>LSAD</th>\n",
       "      <th>LOGRADE</th>\n",
       "      <th>HIGRADE</th>\n",
       "      <th>MTFCC</th>\n",
       "      <th>SDTYP</th>\n",
       "      <th>FUNCSTAT</th>\n",
       "      <th>ALAND</th>\n",
       "      <th>AWATER</th>\n",
       "      <th>INTPTLAT</th>\n",
       "      <th>INTPTLON</th>\n",
       "      <th>ELSDLEA</th>\n",
       "      <th>UNSDLEA</th>\n",
       "      <th>SCSDLEA</th>\n",
       "      <th>geometry</th>\n",
       "    </tr>\n",
       "  </thead>\n",
       "  <tbody>\n",
       "    <tr>\n",
       "      <th>0</th>\n",
       "      <td>04</td>\n",
       "      <td>0400082</td>\n",
       "      <td>Colorado River Union High School District</td>\n",
       "      <td>00</td>\n",
       "      <td>09</td>\n",
       "      <td>12</td>\n",
       "      <td>G5410</td>\n",
       "      <td>None</td>\n",
       "      <td>E</td>\n",
       "      <td>2.711174e+09</td>\n",
       "      <td>74672820.0</td>\n",
       "      <td>+35.1052137</td>\n",
       "      <td>-114.4678343</td>\n",
       "      <td>None</td>\n",
       "      <td>None</td>\n",
       "      <td>00082</td>\n",
       "      <td>POLYGON ((-114.48403 35.67650, -114.48298 35.6...</td>\n",
       "    </tr>\n",
       "    <tr>\n",
       "      <th>1</th>\n",
       "      <td>04</td>\n",
       "      <td>0400450</td>\n",
       "      <td>Agua Fria Union High School District</td>\n",
       "      <td>00</td>\n",
       "      <td>09</td>\n",
       "      <td>12</td>\n",
       "      <td>G5410</td>\n",
       "      <td>None</td>\n",
       "      <td>E</td>\n",
       "      <td>2.446409e+08</td>\n",
       "      <td>740286.0</td>\n",
       "      <td>+33.4814273</td>\n",
       "      <td>-112.4078710</td>\n",
       "      <td>None</td>\n",
       "      <td>None</td>\n",
       "      <td>00450</td>\n",
       "      <td>POLYGON ((-112.41212 33.55171, -112.41083 33.5...</td>\n",
       "    </tr>\n",
       "    <tr>\n",
       "      <th>2</th>\n",
       "      <td>04</td>\n",
       "      <td>0400720</td>\n",
       "      <td>Antelope Union High School District</td>\n",
       "      <td>00</td>\n",
       "      <td>09</td>\n",
       "      <td>12</td>\n",
       "      <td>G5410</td>\n",
       "      <td>None</td>\n",
       "      <td>E</td>\n",
       "      <td>7.937908e+09</td>\n",
       "      <td>3400.0</td>\n",
       "      <td>+32.9920489</td>\n",
       "      <td>-113.8173717</td>\n",
       "      <td>None</td>\n",
       "      <td>None</td>\n",
       "      <td>00720</td>\n",
       "      <td>POLYGON ((-113.98419 33.46466, -113.97106 33.4...</td>\n",
       "    </tr>\n",
       "    <tr>\n",
       "      <th>3</th>\n",
       "      <td>04</td>\n",
       "      <td>0401160</td>\n",
       "      <td>Bicentennial Union High School District</td>\n",
       "      <td>00</td>\n",
       "      <td>09</td>\n",
       "      <td>12</td>\n",
       "      <td>G5410</td>\n",
       "      <td>None</td>\n",
       "      <td>E</td>\n",
       "      <td>9.842287e+09</td>\n",
       "      <td>22988821.0</td>\n",
       "      <td>+33.6694969</td>\n",
       "      <td>-113.9521527</td>\n",
       "      <td>None</td>\n",
       "      <td>None</td>\n",
       "      <td>01160</td>\n",
       "      <td>POLYGON ((-113.33638 34.31750, -113.33563 34.3...</td>\n",
       "    </tr>\n",
       "    <tr>\n",
       "      <th>4</th>\n",
       "      <td>04</td>\n",
       "      <td>0401410</td>\n",
       "      <td>Buckeye Union High School District</td>\n",
       "      <td>00</td>\n",
       "      <td>09</td>\n",
       "      <td>12</td>\n",
       "      <td>G5410</td>\n",
       "      <td>None</td>\n",
       "      <td>E</td>\n",
       "      <td>3.167017e+09</td>\n",
       "      <td>214246.0</td>\n",
       "      <td>+33.3198987</td>\n",
       "      <td>-112.8117940</td>\n",
       "      <td>None</td>\n",
       "      <td>None</td>\n",
       "      <td>01410</td>\n",
       "      <td>POLYGON ((-113.25997 33.55159, -113.24536 33.5...</td>\n",
       "    </tr>\n",
       "  </tbody>\n",
       "</table>\n",
       "</div>"
      ],
      "text/plain": [
       "  STATEFP    GEOID                                       NAME LSAD LOGRADE  \\\n",
       "0      04  0400082  Colorado River Union High School District   00      09   \n",
       "1      04  0400450       Agua Fria Union High School District   00      09   \n",
       "2      04  0400720        Antelope Union High School District   00      09   \n",
       "3      04  0401160    Bicentennial Union High School District   00      09   \n",
       "4      04  0401410         Buckeye Union High School District   00      09   \n",
       "\n",
       "  HIGRADE  MTFCC SDTYP FUNCSTAT         ALAND      AWATER     INTPTLAT  \\\n",
       "0      12  G5410  None        E  2.711174e+09  74672820.0  +35.1052137   \n",
       "1      12  G5410  None        E  2.446409e+08    740286.0  +33.4814273   \n",
       "2      12  G5410  None        E  7.937908e+09      3400.0  +32.9920489   \n",
       "3      12  G5410  None        E  9.842287e+09  22988821.0  +33.6694969   \n",
       "4      12  G5410  None        E  3.167017e+09    214246.0  +33.3198987   \n",
       "\n",
       "       INTPTLON ELSDLEA UNSDLEA SCSDLEA  \\\n",
       "0  -114.4678343    None    None   00082   \n",
       "1  -112.4078710    None    None   00450   \n",
       "2  -113.8173717    None    None   00720   \n",
       "3  -113.9521527    None    None   01160   \n",
       "4  -112.8117940    None    None   01410   \n",
       "\n",
       "                                            geometry  \n",
       "0  POLYGON ((-114.48403 35.67650, -114.48298 35.6...  \n",
       "1  POLYGON ((-112.41212 33.55171, -112.41083 33.5...  \n",
       "2  POLYGON ((-113.98419 33.46466, -113.97106 33.4...  \n",
       "3  POLYGON ((-113.33638 34.31750, -113.33563 34.3...  \n",
       "4  POLYGON ((-113.25997 33.55159, -113.24536 33.5...  "
      ]
     },
     "execution_count": 7,
     "metadata": {},
     "output_type": "execute_result"
    }
   ],
   "source": [
    "districts1516.head()"
   ]
  },
  {
   "cell_type": "markdown",
   "id": "ae260159-3701-4a36-b78a-7dec6b0cc8bf",
   "metadata": {},
   "source": [
    "`GEOID` in this case is a combination of the state fips code and the Local Education Agency's (LEA) NCES number. You can index a data set of schools to a specific district by querying for the first 7 digits to match this `GEOID` number. "
   ]
  },
  {
   "cell_type": "code",
   "execution_count": 10,
   "id": "740dc868-93e7-490f-8154-14ad5e7f664d",
   "metadata": {},
   "outputs": [
    {
     "data": {
      "text/plain": [
       "'04'"
      ]
     },
     "execution_count": 10,
     "metadata": {},
     "output_type": "execute_result"
    }
   ],
   "source": [
    "districts1516.STATEFP[0] # state fips"
   ]
  },
  {
   "cell_type": "code",
   "execution_count": 11,
   "id": "7ac9ce7c-83c4-403b-a1d1-da756e7ca5d9",
   "metadata": {},
   "outputs": [
    {
     "data": {
      "text/plain": [
       "'00082'"
      ]
     },
     "execution_count": 11,
     "metadata": {},
     "output_type": "execute_result"
    }
   ],
   "source": [
    "districts1516.SCSDLEA[0] # school lea number"
   ]
  },
  {
   "cell_type": "code",
   "execution_count": 9,
   "id": "d8af6821-181e-4716-a087-247aef07ceb4",
   "metadata": {},
   "outputs": [
    {
     "data": {
      "text/plain": [
       "'0400082'"
      ]
     },
     "execution_count": 9,
     "metadata": {},
     "output_type": "execute_result"
    }
   ],
   "source": [
    "districts1516.GEOID[0] # combined GEOID: 2 out of 3 parts of NCESSCH ID"
   ]
  },
  {
   "cell_type": "code",
   "execution_count": 12,
   "id": "474fd874-7b0c-4af0-bc49-624377c589b5",
   "metadata": {},
   "outputs": [],
   "source": [
    "ca = districts1516.loc[districts1516['STATEFP'] == '06']"
   ]
  },
  {
   "cell_type": "code",
   "execution_count": 13,
   "id": "57e2178d-c569-4ec8-8c97-5fb02f066864",
   "metadata": {},
   "outputs": [
    {
     "data": {
      "text/plain": [
       "<AxesSubplot:>"
      ]
     },
     "execution_count": 13,
     "metadata": {},
     "output_type": "execute_result"
    },
    {
     "data": {
      "image/png": "[encoded data removed]",
      "text/plain": [
       "<Figure size 432x288 with 1 Axes>"
      ]
     },
     "metadata": {
      "needs_background": "light"
     },
     "output_type": "display_data"
    }
   ],
   "source": [
    "ca.plot()"
   ]
  },
  {
   "cell_type": "markdown",
   "id": "5f2137b5-e2f2-4719-a2e6-7ab391698291",
   "metadata": {},
   "source": [
    "### look at older data year"
   ]
  },
  {
   "cell_type": "code",
   "execution_count": 5,
   "id": "02fbb95a-7f22-46ef-8a95-075f8d7c6b75",
   "metadata": {},
   "outputs": [],
   "source": [
    "districts0910 = gpd.read_parquet('../../../data/NCES/districts/us_school_districts_2010.parquet')"
   ]
  },
  {
   "cell_type": "code",
   "execution_count": 15,
   "id": "8001263c-7442-472f-b943-5d47ec344f0e",
   "metadata": {},
   "outputs": [
    {
     "data": {
      "text/html": [
       "<div>\n",
       "<style scoped>\n",
       "    .dataframe tbody tr th:only-of-type {\n",
       "        vertical-align: middle;\n",
       "    }\n",
       "\n",
       "    .dataframe tbody tr th {\n",
       "        vertical-align: top;\n",
       "    }\n",
       "\n",
       "    .dataframe thead th {\n",
       "        text-align: right;\n",
       "    }\n",
       "</style>\n",
       "<table border=\"1\" class=\"dataframe\">\n",
       "  <thead>\n",
       "    <tr style=\"text-align: right;\">\n",
       "      <th></th>\n",
       "      <th>state</th>\n",
       "      <th>lea</th>\n",
       "      <th>name</th>\n",
       "      <th>lowgrade</th>\n",
       "      <th>highgrade</th>\n",
       "      <th>geometry</th>\n",
       "    </tr>\n",
       "  </thead>\n",
       "  <tbody>\n",
       "    <tr>\n",
       "      <th>0</th>\n",
       "      <td>04</td>\n",
       "      <td>01160</td>\n",
       "      <td>Bicentennial Union High School District</td>\n",
       "      <td>09</td>\n",
       "      <td>12</td>\n",
       "      <td>POLYGON ((720962.240 3703206.709, 721013.420 3...</td>\n",
       "    </tr>\n",
       "    <tr>\n",
       "      <th>1</th>\n",
       "      <td>04</td>\n",
       "      <td>00720</td>\n",
       "      <td>Antelope Union High School District</td>\n",
       "      <td>09</td>\n",
       "      <td>12</td>\n",
       "      <td>POLYGON ((841438.948 3688741.414, 841448.425 3...</td>\n",
       "    </tr>\n",
       "    <tr>\n",
       "      <th>2</th>\n",
       "      <td>04</td>\n",
       "      <td>09630</td>\n",
       "      <td>Yuma Union High School District</td>\n",
       "      <td>09</td>\n",
       "      <td>12</td>\n",
       "      <td>POLYGON ((746081.833 3583866.521, 745900.965 3...</td>\n",
       "    </tr>\n",
       "    <tr>\n",
       "      <th>3</th>\n",
       "      <td>04</td>\n",
       "      <td>05070</td>\n",
       "      <td>Mingus Union High School District</td>\n",
       "      <td>09</td>\n",
       "      <td>12</td>\n",
       "      <td>POLYGON ((939624.924 3850402.965, 939610.747 3...</td>\n",
       "    </tr>\n",
       "    <tr>\n",
       "      <th>4</th>\n",
       "      <td>04</td>\n",
       "      <td>01740</td>\n",
       "      <td>Casa Grande Union High School District</td>\n",
       "      <td>09</td>\n",
       "      <td>12</td>\n",
       "      <td>POLYGON ((1003438.853 3655665.920, 1003461.906...</td>\n",
       "    </tr>\n",
       "  </tbody>\n",
       "</table>\n",
       "</div>"
      ],
      "text/plain": [
       "  state    lea                                     name lowgrade highgrade  \\\n",
       "0    04  01160  Bicentennial Union High School District       09        12   \n",
       "1    04  00720      Antelope Union High School District       09        12   \n",
       "2    04  09630          Yuma Union High School District       09        12   \n",
       "3    04  05070        Mingus Union High School District       09        12   \n",
       "4    04  01740   Casa Grande Union High School District       09        12   \n",
       "\n",
       "                                            geometry  \n",
       "0  POLYGON ((720962.240 3703206.709, 721013.420 3...  \n",
       "1  POLYGON ((841438.948 3688741.414, 841448.425 3...  \n",
       "2  POLYGON ((746081.833 3583866.521, 745900.965 3...  \n",
       "3  POLYGON ((939624.924 3850402.965, 939610.747 3...  \n",
       "4  POLYGON ((1003438.853 3655665.920, 1003461.906...  "
      ]
     },
     "execution_count": 15,
     "metadata": {},
     "output_type": "execute_result"
    }
   ],
   "source": [
    "districts0910.head()"
   ]
  },
  {
   "cell_type": "code",
   "execution_count": 16,
   "id": "78a7d263-d494-41fe-badd-267ccf74b21c",
   "metadata": {},
   "outputs": [],
   "source": [
    "ca10 = districts0910.loc[districts0910['state'] == '06']"
   ]
  },
  {
   "cell_type": "code",
   "execution_count": 18,
   "id": "e4ee44af-cf55-44ad-96b6-c8ad47edf360",
   "metadata": {},
   "outputs": [
    {
     "data": {
      "text/plain": [
       "<AxesSubplot:>"
      ]
     },
     "execution_count": 18,
     "metadata": {},
     "output_type": "execute_result"
    },
    {
     "data": {
      "image/png": "[encoded data removed]",
      "text/plain": [
       "<Figure size 432x288 with 1 Axes>"
      ]
     },
     "metadata": {
      "needs_background": "light"
     },
     "output_type": "display_data"
    }
   ],
   "source": [
    "ca10.plot()"
   ]
  },
  {
   "cell_type": "code",
   "execution_count": null,
   "id": "067fd6bd-e235-4995-b0ed-db7304af3c1f",
   "metadata": {},
   "outputs": [],
   "source": []
  }
 ],
 "metadata": {
  "kernelspec": {
   "display_name": "Python 3",
   "language": "python",
   "name": "python3"
  },
  "language_info": {
   "codemirror_mode": {
    "name": "ipython",
    "version": 3
   },
   "file_extension": ".py",
   "mimetype": "text/x-python",
   "name": "python",
   "nbconvert_exporter": "python",
   "pygments_lexer": "ipython3",
   "version": "3.9.2"
  }
 },
 "nbformat": 4,
 "nbformat_minor": 5
}
