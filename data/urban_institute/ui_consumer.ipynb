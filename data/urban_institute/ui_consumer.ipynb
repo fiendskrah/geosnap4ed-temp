{
 "cells": [
  {
   "cell_type": "markdown",
   "metadata": {},
   "source": [
    "This will consume the [html from the ui api](https://educationdata.urban.org/documentation/schools.html#ccd_directory)"
   ]
  },
  {
   "cell_type": "markdown",
   "metadata": {},
   "source": [
    "[reference BeautifulSoup tutorial](https://www.dataschool.io/python-web-scraping-of-president-trumps-lies/#parsingthehtmlusingbeautifulsoup)"
   ]
  },
  {
   "cell_type": "code",
   "execution_count": 1,
   "metadata": {},
   "outputs": [],
   "source": [
    "from bs4 import BeautifulSoup"
   ]
  },
  {
   "cell_type": "code",
   "execution_count": 2,
   "metadata": {},
   "outputs": [],
   "source": [
    "import requests\n",
    "r = requests.get('https://educationdata.urban.org/documentation/schools.html')"
   ]
  },
  {
   "cell_type": "code",
   "execution_count": 3,
   "metadata": {
    "scrolled": true
   },
   "outputs": [
    {
     "data": {
      "text/plain": [
       "'<!DOCTYPE html>\\n<head>\\n\\n\\t<title></title>\\n\\t\\n\\t<meta '"
      ]
     },
     "execution_count": 3,
     "metadata": {},
     "output_type": "execute_result"
    }
   ],
   "source": [
    "r.text[0:50]"
   ]
  },
  {
   "cell_type": "code",
   "execution_count": 4,
   "metadata": {},
   "outputs": [],
   "source": [
    "soup = BeautifulSoup(r.text, 'html.parser')"
   ]
  },
  {
   "cell_type": "code",
   "execution_count": 23,
   "metadata": {},
   "outputs": [
    {
     "name": "stdout",
     "output_type": "stream",
     "text": [
      "<!DOCTYPE html>\n",
      "<head>\n",
      " <title>\n",
      " </title>\n",
      " <meta content=\"width=device-width,initial-scale=1.0\" name=\"viewport\"/>\n",
      " <link href=\"https://fonts.googleapis.com/css?family=Lato:300,400,700,900\" rel=\"stylesheet\"/>\n",
      " <link href=\"https://fonts.googleapis.com/css?family=Source+Code+Pro\" rel=\"stylesheet\"/>\n",
      " <link href=\"favicon.ico\" rel=\"shortcut icon\" type=\"image/x-icon\"/>\n",
      " <link href=\"highlight/styles/default.css\" rel=\"stylesheet\"/>\n",
      " <link href=\"fancybox/jquery.fancybox.min.css\" rel=\"stylesheet\" type=\"text/css\"/>\n",
      " <link href=\"css/style.css\" rel=\"stylesheet\" type=\"text/css\"/>\n",
      "</head>\n",
      "<body>\n",
      " <div id=\"detail_description\" style=\"display:none\">\n",
      "  <h2>\n",
      "   Var Name\n",
      "  </h2>\n",
      "  Detailed description\n",
      " </div>\n",
      " <ul id=\"topLevelMenu\">\n",
      "  <li>\n",
      "   <a href=\"index.html\">\n",
      "    Overview\n",
      "   </a>\n",
      "  </li>\n",
      "  <li>\n",
      "   Topics:\n",
      "  </li>\n",
      "  <li>\n",
      "   <a class=\"active\" href=\"schools.html\">\n",
      "    Schools\n",
      "   </a>\n",
      "  </li>\n",
      "  <li>\n",
      "   <a href=\"school-districts.html\">\n",
      "    School Districts\n",
      "   </a>\n",
      "  </li>\n",
      "  <li>\n",
      "   <a href=\"colleges.html\">\n",
      "    Colleges\n",
      "   </a>\n",
      "  </li>\n",
      " </ul>\n",
      " <nav>\n",
      "  <img class=\"logo\" src=\"img/logo_3.png\"/>\n",
      "  <div class=\"site_title\">\n",
      "   Education Data Portal\n",
      "  </div>\n",
      "  <div class=\"site_subtitle\">\n",
      "   <a href=\"https://educationdata.urban.org/data-explorer/\" target=\"_blank\">\n",
      "    DATA EXPLORER\n",
      "    <i aria-hidden=\"true\" class=\"fa fa-external-link\">\n",
      "    </i>\n",
      "   </a>\n",
      "  </div>\n",
      "  <div class=\"close_menu\">\n",
      "   <i aria-hidden=\"true\" class=\"fa fa-times\">\n",
      "   </i>\n",
      "  </div>\n",
      "  <div class=\"burger\">\n",
      "   Schools\n",
      "   <i aria-hidden=\"true\" class=\"fa fa-bars\">\n",
      "   </i>\n",
      "  </div>\n",
      " </nav>\n",
      " <div class=\"mobile_index\">\n",
      "  <i aria-hidden=\"true\" class=\"fa fa-angle-down\">\n",
      "  </i>\n",
      "  <span class=\"section_name\">\n",
      "   Level 1 -\n",
      "   <b>\n",
      "    Level 2\n",
      "   </b>\n",
      "  </span>\n",
      " </div>\n",
      " <section class=\"left_index\">\n",
      "  <div class=\"fixed_index_holder\">\n",
      "   <ul>\n",
      "    <li class=\"active\" id=\"link_overview\">\n",
      "     <a data-content=\"&lt;b&gt;Overview&lt;/b&gt;\" href=\"#overview\">\n",
      "      Overview\n",
      "     </a>\n",
      "    </li>\n",
      "   </ul>\n",
      "  </div>\n",
      " </section>\n",
      " <!-- EOF left_index -->\n",
      " <div class=\"spacer\">\n",
      " </div>\n",
      " <div class=\"right_background\">\n",
      " </div>\n",
      " <!-- EOF right_background -->\n",
      " <div class=\"mobile_code_selector\">\n",
      "  <i aria-hidden=\"true\" class=\"fa fa-angle-down\">\n",
      "  </i>\n",
      "  <span class=\"section_name\">\n",
      "   <b>\n",
      "    <span class=\"language_name\">\n",
      "     R\n",
      "    </span>\n",
      "   </b>\n",
      "  </span>\n",
      " </div>\n",
      " <!-- EOF mobile_code_selector -->\n",
      " <div class=\"right_code_selector\">\n",
      "  <ul>\n",
      "   <li class=\"active\" data-content=\"Stata\">\n",
      "    Stata\n",
      "   </li>\n",
      "   <li data-content=\"R\">\n",
      "    R\n",
      "   </li>\n",
      "   <li data-content=\"Python\">\n",
      "    Python\n",
      "   </li>\n",
      "   <li data-content=\"Javascript\">\n",
      "    Javascript\n",
      "   </li>\n",
      "   <li data-content=\"Downloads\">\n",
      "    <i class=\"fa fa-download\">\n",
      "    </i>\n",
      "    Downloads\n",
      "   </li>\n",
      "  </ul>\n",
      " </div>\n",
      " <!-- Overview -->\n",
      " <section class=\"content_section\" id=\"overview\">\n",
      "  <div class=\"right_description\">\n",
      "   <a id=\"overview\">\n",
      "   </a>\n",
      "   <div class=\"padded_content\">\n",
      "    <h1>\n",
      "     Schools\n",
      "    </h1>\n",
      "    <p>\n",
      "     This school-level database contains data from the following sources: the National Center for Education Statistics’ Common Core of Data (CCD), the Civil Rights Data Collection (CRDC), the US Department of Education’s EDFacts, and IPUMS' National Historical Geographic Information System (NHGIS). Although the CCD includes information on schools over a long period, the topics covered are more limited than in the CRDC. Data elements in the CCD include basic information about the school (e.g., location, grade offerings, and charter status) and student enrollment demographics. The CRDC contains three years of data on every public school on such topics as student discipline, retention, course enrollment, chronic absenteeism, and SAT or ACT test-taking. EdFacts provides assessment data broken down by various subgroups. NHGIS provides census geographies such as tract and block group for each school.\n",
      "    </p>\n",
      "    <br/>\n",
      "    <h3>\n",
      "     Data sources:\n",
      "    </h3>\n",
      "    <ul id=\"sourceList\">\n",
      "    </ul>\n",
      "   </div>\n",
      "  </div>\n",
      " </section>\n",
      " <div id=\"endpoint_content\">\n",
      " </div>\n",
      " <div id=\"example_response\" style=\"display:none\">\n",
      "  <div class=\"code_area\">\n",
      "   <pre>\n",
      "\t\t\t<code class=\"html python\">\n",
      "\t\t\t</code>\n",
      "\t\t</pre>\n",
      "  </div>\n",
      " </div>\n",
      " <script crossorigin=\"anonymous\" integrity=\"sha256-hwg4gsxgFZhOsEEamdOYGBf13FyQuiTwlAQgxVSNgt4=\" src=\"https://code.jquery.com/jquery-3.2.1.min.js\">\n",
      " </script>\n",
      " <script src=\"highlight/highlight.pack.js\">\n",
      " </script>\n",
      " <script src=\"https://use.fontawesome.com/0047543ab6.js\">\n",
      " </script>\n",
      " <script src=\"fancybox/jquery.fancybox.min.js\">\n",
      " </script>\n",
      " <script src=\"js/lib/d3.v4.min.js\">\n",
      " </script>\n",
      " <script>\n",
      "  var page_id = \"2\"\n",
      " </script>\n",
      " <script src=\"js/script.js\">\n",
      " </script>\n",
      "</body>\n",
      "\n"
     ]
    }
   ],
   "source": [
    "print(soup.prettify())"
   ]
  },
  {
   "cell_type": "code",
   "execution_count": 75,
   "metadata": {},
   "outputs": [],
   "source": [
    "tab = soup.find(\"table\", class_=\"attributeTable\")"
   ]
  },
  {
   "cell_type": "code",
   "execution_count": 76,
   "metadata": {},
   "outputs": [],
   "source": [
    "tab"
   ]
  },
  {
   "cell_type": "code",
   "execution_count": 78,
   "metadata": {},
   "outputs": [
    {
     "ename": "AttributeError",
     "evalue": "'NoneType' object has no attribute 'find_all'",
     "output_type": "error",
     "traceback": [
      "\u001b[1;31m---------------------------------------------------------------------------\u001b[0m",
      "\u001b[1;31mAttributeError\u001b[0m                            Traceback (most recent call last)",
      "\u001b[1;32m<ipython-input-78-7d4a939eb3d3>\u001b[0m in \u001b[0;36m<module>\u001b[1;34m\u001b[0m\n\u001b[1;32m----> 1\u001b[1;33m \u001b[0mtab_data\u001b[0m \u001b[1;33m=\u001b[0m \u001b[0mtab\u001b[0m\u001b[1;33m.\u001b[0m\u001b[0mfind_all\u001b[0m\u001b[1;33m(\u001b[0m\u001b[1;34m\"tr\"\u001b[0m\u001b[1;33m)\u001b[0m\u001b[1;33m\u001b[0m\u001b[1;33m\u001b[0m\u001b[0m\n\u001b[0m",
      "\u001b[1;31mAttributeError\u001b[0m: 'NoneType' object has no attribute 'find_all'"
     ]
    }
   ],
   "source": [
    "tab_data = tab.find_all(\"tr\")"
   ]
  },
  {
   "cell_type": "code",
   "execution_count": 39,
   "metadata": {},
   "outputs": [
    {
     "name": "stdout",
     "output_type": "stream",
     "text": [
      "[]\n"
     ]
    }
   ],
   "source": [
    "tr = soup.find_all(\"1\")\n",
    "print(tr)"
   ]
  },
  {
   "cell_type": "code",
   "execution_count": null,
   "metadata": {},
   "outputs": [],
   "source": []
  },
  {
   "cell_type": "code",
   "execution_count": null,
   "metadata": {},
   "outputs": [],
   "source": []
  },
  {
   "cell_type": "code",
   "execution_count": 9,
   "metadata": {},
   "outputs": [],
   "source": [
    "import pandas as pd"
   ]
  },
  {
   "cell_type": "code",
   "execution_count": null,
   "metadata": {},
   "outputs": [],
   "source": []
  }
 ],
 "metadata": {
  "kernelspec": {
   "display_name": "Python 3",
   "language": "python",
   "name": "python3"
  },
  "language_info": {
   "codemirror_mode": {
    "name": "ipython",
    "version": 3
   },
   "file_extension": ".py",
   "mimetype": "text/x-python",
   "name": "python",
   "nbconvert_exporter": "python",
   "pygments_lexer": "ipython3",
   "version": "3.7.6"
  }
 },
 "nbformat": 4,
 "nbformat_minor": 4
}
